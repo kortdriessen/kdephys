{
 "cells": [
  {
   "cell_type": "markdown",
   "metadata": {},
   "source": [
    "# SSFM Hypno Building"
   ]
  },
  {
   "cell_type": "markdown",
   "metadata": {},
   "source": [
    "## Building a Toy Hypnogram"
   ]
  },
  {
   "cell_type": "markdown",
   "metadata": {},
   "source": [
    "First will get the logic working with a toy example:"
   ]
  },
  {
   "cell_type": "code",
   "execution_count": 4,
   "metadata": {},
   "outputs": [],
   "source": [
    "import sleep_score_for_me.v1.ssfm_v1 as ssfm\n",
    "import pandas as pd\n",
    "import numpy as np"
   ]
  },
  {
   "cell_type": "code",
   "execution_count": 5,
   "metadata": {},
   "outputs": [],
   "source": [
    "#Makes our toy dataframe:\n",
    "\n",
    "dti = pd.date_range(\"2020-01-01T09:00:12.00\", periods=100, freq=\"4S\")\n",
    "ex = pd.Series(np.random.randn(len(dti)), index=dti)\n",
    "ex = ex.to_frame(name='param1')\n",
    "ex['param2'] = np.random.randn(len(dti))\n",
    "ex['state'] = np.nan"
   ]
  },
  {
   "cell_type": "code",
   "execution_count": 6,
   "metadata": {},
   "outputs": [],
   "source": [
    "# This first assigns NREM based on a param1 threshold:\n",
    "ex.loc[ex.param1 >= 0, 'state'] = 'NREM'\n",
    "\n",
    "# This then assigns wake vs rem based on param2:\n",
    "ex.loc[np.logical_and(ex.param2 >=0, ex.state != 'NREM'), 'state'] = 'Wake'\n",
    "ex.loc[np.logical_and(ex.param2 <0, ex.state != 'NREM'), 'state'] = 'REM'"
   ]
  },
  {
   "cell_type": "markdown",
   "metadata": {},
   "source": [
    "- Now to build the hypnogram"
   ]
  },
  {
   "cell_type": "code",
   "execution_count": 7,
   "metadata": {},
   "outputs": [],
   "source": [
    "# First let's try a boolean series to get the NREM epocs:\n",
    "s1 = ex['state']\n",
    "bool1 = s1 == 'NREM'\n",
    "bool2 = s1 == 'Wake'\n",
    "bool3 = s1 == 'REM'"
   ]
  },
  {
   "cell_type": "code",
   "execution_count": 8,
   "metadata": {},
   "outputs": [
    {
     "data": {
      "text/plain": [
       "2020-01-01 09:00:12    False\n",
       "2020-01-01 09:00:16    False\n",
       "2020-01-01 09:00:20     True\n",
       "2020-01-01 09:00:24     True\n",
       "2020-01-01 09:00:28     True\n",
       "                       ...  \n",
       "2020-01-01 09:06:32    False\n",
       "2020-01-01 09:06:36     True\n",
       "2020-01-01 09:06:40    False\n",
       "2020-01-01 09:06:44    False\n",
       "2020-01-01 09:06:48    False\n",
       "Freq: 4S, Name: state, Length: 100, dtype: bool"
      ]
     },
     "execution_count": 8,
     "metadata": {},
     "output_type": "execute_result"
    }
   ],
   "source": [
    "bool1"
   ]
  },
  {
   "cell_type": "code",
   "execution_count": 9,
   "metadata": {},
   "outputs": [
    {
     "name": "stdout",
     "output_type": "stream",
     "text": [
      "passing indexing error\n",
      "passing indexing error\n",
      "passing indexing error\n"
     ]
    }
   ],
   "source": [
    "# Then we can segment that boolean series: \n",
    "nrem_tups = ssfm.starts_and_ends(bool1)\n",
    "wake_tups = ssfm.starts_and_ends(bool2)\n",
    "rem_tups = ssfm.starts_and_ends(bool3)"
   ]
  },
  {
   "cell_type": "code",
   "execution_count": 10,
   "metadata": {},
   "outputs": [],
   "source": [
    "# Then we make each boolean series into a partial-hypnogram:\n",
    "\n",
    "nrem_hyp = pd.DataFrame(columns = ['state', 'end_time', 'start_time', 'duration'])\n",
    "nrem_hyp[['start_time', 'end_time']] = nrem_tups\n",
    "nrem_hyp['duration'] = nrem_hyp.end_time - nrem_hyp.start_time\n",
    "nrem_hyp['state'] = 'NREM'\n",
    "\n",
    "wake_hyp = pd.DataFrame(columns = ['state', 'end_time', 'start_time', 'duration'])\n",
    "wake_hyp[['start_time', 'end_time']] = wake_tups\n",
    "wake_hyp['duration'] = wake_hyp.end_time - wake_hyp.start_time\n",
    "wake_hyp['state'] = 'Wake'\n",
    "\n",
    "rem_hyp = pd.DataFrame(columns = ['state', 'end_time', 'start_time', 'duration'])\n",
    "rem_hyp[['start_time', 'end_time']] = rem_tups\n",
    "rem_hyp['duration'] = rem_hyp.end_time - rem_hyp.start_time\n",
    "rem_hyp['state'] = 'REM'"
   ]
  },
  {
   "cell_type": "code",
   "execution_count": 11,
   "metadata": {},
   "outputs": [],
   "source": [
    "# Then we concatenate and sort:\n",
    "\n",
    "toy_hypno = pd.concat([nrem_hyp, wake_hyp, rem_hyp])\n",
    "toy_hypno = toy_hypno.sort_values('start_time')"
   ]
  },
  {
   "cell_type": "code",
   "execution_count": 12,
   "metadata": {
    "collapsed": true,
    "jupyter": {
     "outputs_hidden": true
    },
    "tags": []
   },
   "outputs": [
    {
     "ename": "NameError",
     "evalue": "name 'plot_hypnogram_overlay' is not defined",
     "output_type": "error",
     "traceback": [
      "\u001b[0;31m---------------------------------------------------------------------------\u001b[0m",
      "\u001b[0;31mNameError\u001b[0m                                 Traceback (most recent call last)",
      "\u001b[0;32m/tmp/ipykernel_4048078/2960893454.py\u001b[0m in \u001b[0;36m<module>\u001b[0;34m\u001b[0m\n\u001b[1;32m      1\u001b[0m \u001b[0;31m# And plot it:\u001b[0m\u001b[0;34m\u001b[0m\u001b[0;34m\u001b[0m\u001b[0m\n\u001b[0;32m----> 2\u001b[0;31m \u001b[0max\u001b[0m \u001b[0;34m=\u001b[0m \u001b[0mplot_hypnogram_overlay\u001b[0m\u001b[0;34m(\u001b[0m\u001b[0mtoy_hypno\u001b[0m\u001b[0;34m)\u001b[0m\u001b[0;34m\u001b[0m\u001b[0;34m\u001b[0m\u001b[0m\n\u001b[0m",
      "\u001b[0;31mNameError\u001b[0m: name 'plot_hypnogram_overlay' is not defined"
     ]
    }
   ],
   "source": [
    "# And plot it:\n",
    "ax = plot_hypnogram_overlay(toy_hypno)"
   ]
  },
  {
   "cell_type": "code",
   "execution_count": null,
   "metadata": {},
   "outputs": [],
   "source": [
    "def starts_and_ends(s, minimum_duration=np.timedelta64(3, 's')):\n",
    "    start_times = np.empty(0)\n",
    "    end_times = np.empty(0)\n",
    "    period = s.index[1] - s.index[0]\n",
    "\n",
    "    s_trues = s[s==True]\n",
    "    ix = s_trues.index\n",
    "    ix_counter = np.arange(0, len(ix))\n",
    "\n",
    "    try:\n",
    "        for i in ix_counter:\n",
    "            if (ix[i] - period) != ix[i-1]:\n",
    "                start_times = np.append(start_times, ix[i])\n",
    "            if (ix[i] + period) != ix[i+1]:\n",
    "                end_times = np.append(end_times, (ix[i] + period))\n",
    "            elif np.logical_and((ix[i] + period) == ix[i+1], (ix[i] - period) == ix[i-1]):\n",
    "                pass \n",
    "    except IndexError:\n",
    "        print('passing indexing error')\n",
    "        pass\n",
    "    end_times = np.append(end_times, (ix[ix_counter.max()] + period))\n",
    "    return [(start_time, end_time)\n",
    "            for start_time, end_time in zip(start_times, end_times)\n",
    "            if end_time >= (start_time + minimum_duration)]"
   ]
  }
 ],
 "metadata": {
  "interpreter": {
   "hash": "8b4e5f83c5c43fbba261d328a2df1f0567bfa5b389d8ccfa34ce3cfd2f216fff"
  },
  "kernelspec": {
   "display_name": "Python 3 (ipykernel)",
   "language": "python",
   "name": "python3"
  },
  "language_info": {
   "codemirror_mode": {
    "name": "ipython",
    "version": 3
   },
   "file_extension": ".py",
   "mimetype": "text/x-python",
   "name": "python",
   "nbconvert_exporter": "python",
   "pygments_lexer": "ipython3",
   "version": "3.9.7"
  }
 },
 "nbformat": 4,
 "nbformat_minor": 4
}
