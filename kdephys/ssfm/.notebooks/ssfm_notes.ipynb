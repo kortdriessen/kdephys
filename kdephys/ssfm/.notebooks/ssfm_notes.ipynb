{
 "cells": [
  {
   "cell_type": "markdown",
   "id": "6dd2510e",
   "metadata": {},
   "source": [
    "## SSFM Notes"
   ]
  },
  {
   "cell_type": "markdown",
   "id": "b8726109",
   "metadata": {},
   "source": [
    "Relevant parameters\n",
    "- delta power\n",
    "- sigma power \n",
    "- delta/gamma ratio\n",
    "- EMG activity\n",
    "- percentile of value (is it an outlier?)\n",
    "- principle component of spectrogram??"
   ]
  },
  {
   "cell_type": "markdown",
   "id": "3cfdf0c1",
   "metadata": {},
   "source": [
    "Ideas: \n",
    "- look for muscle leaking INTO the EEG\n",
    "- do a ton of divisions to really enhance signal-to-noise on the ratios\n",
    "- try PCA\n",
    "- incorporate other channels\n",
    "- adjust the 'delta' being used to take out some of the REALLY slow artifact power\n",
    "- smoothing clearly needs to enter the process somewhere"
   ]
  }
 ],
 "metadata": {
  "interpreter": {
   "hash": "8b4e5f83c5c43fbba261d328a2df1f0567bfa5b389d8ccfa34ce3cfd2f216fff"
  },
  "kernelspec": {
   "display_name": "Python 3.9.7 64-bit ('ecephys_t2': conda)",
   "language": "python",
   "name": "python3"
  },
  "language_info": {
   "name": "python",
   "version": "3.9.7"
  },
  "orig_nbformat": 4
 },
 "nbformat": 4,
 "nbformat_minor": 2
}
