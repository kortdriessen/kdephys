{
 "cells": [
  {
   "cell_type": "markdown",
   "id": "0c8da74a",
   "metadata": {},
   "source": [
    "# Artifact Rejection - Brief Testing"
   ]
  },
  {
   "cell_type": "code",
   "execution_count": 3,
   "id": "eecf1bff",
   "metadata": {
    "execution": {
     "iopub.execute_input": "2021-10-17T01:39:35.987671Z",
     "iopub.status.busy": "2021-10-17T01:39:35.987671Z",
     "iopub.status.idle": "2021-10-17T01:39:38.208901Z",
     "shell.execute_reply": "2021-10-17T01:39:38.207898Z",
     "shell.execute_reply.started": "2021-10-17T01:39:35.987671Z"
    },
    "tags": []
   },
   "outputs": [],
   "source": [
    "%matplotlib widget\n",
    "%reload_ext autoreload\n",
    "%autoreload 2\n",
    "\n",
    "import numpy as np\n",
    "import scipy\n",
    "import pandas as pd\n",
    "import tdt\n",
    "from pathlib import Path\n",
    "import matplotlib.pyplot as plt\n",
    "import seaborn as sns\n",
    "import xarray as xr\n",
    "import yaml\n",
    "import re\n",
    "\n",
    "import hypnogram as hp\n",
    "from ecephys.utils import replace_outliers\n",
    "import ecephys.plot as eplt\n",
    "import ecephys.signal.timefrequency as tfr\n",
    "import ecephys.signal.utils as kd\n",
    "import ecephys.signal.kd_plotting as kp\n",
    "import ecephys.signal.kd_pax as kpx\n",
    "import tdt_xarray as tx\n",
    "\n",
    "import adtk\n",
    "from adtk.detector import GeneralizedESDTestAD\n",
    "from adtk.visualization import plot\n",
    "\n",
    "bands_def = dict(delta=(0.5, 4.0), theta=(4.1, 8), sigma=(11,16), beta = (13, 20), low_gamma = (40, 55), high_gamma = (65, 80))\n",
    "\n",
    "kd_ref = {}\n",
    "kd_ref['echans'] = [1,2,3]\n",
    "kd_ref['fchans']=[1,2,3,4,5,6,7,8,9,10,11,12,13,14,15,16]\n",
    "kd_ref['analysis_root'] = Path('/Volumes/opto_loc/Data/ACHR_PROJECT_MATERIALS/ACHR_2/ACHR_2-analysis-data')\n",
    "kd_ref['tank_root'] = Path('/Volumes/opto_loc/Data/ACHR_2_TANK')"
   ]
  },
  {
   "cell_type": "markdown",
   "id": "c8ccbc88",
   "metadata": {},
   "source": [
    "# Getting the data we need"
   ]
  },
  {
   "cell_type": "code",
   "execution_count": 71,
   "id": "f57de03b",
   "metadata": {},
   "outputs": [],
   "source": [
    "#get a single channel of data as a dataframe with datetime column\n",
    "def bp_df(xr_spg, chan, band_range, t1=None, t2=None):\n",
    "    if t1 is not None: \n",
    "        xr_spg = xr_spg.sel(time=slice(t1, t2))\n",
    "    \n",
    "    try: \n",
    "        xr_spg = xr_spg.swap_dims({'time': 'datetime'})\n",
    "    except:\n",
    "        pass\n",
    "    xr_spg = xr_spg.sel(channel=chan)\n",
    "    xr_bp = kd.get_bandpower(xr_spg, band_range)\n",
    "    df_bp = xr_bp.to_dataframe(name='band_power')\n",
    "    df_bp = df_bp.drop(labels=['channel','timedelta','time'], axis=1)\n",
    "    return df_bp"
   ]
  },
  {
   "cell_type": "code",
   "execution_count": 4,
   "id": "83f0dbf0",
   "metadata": {},
   "outputs": [],
   "source": [
    "bl2p = '/Volumes/opto_loc/Data/ACHR_2/ACHR_2_TANK/ACHR_2-exp2-bl' "
   ]
  },
  {
   "cell_type": "code",
   "execution_count": 5,
   "id": "f5790ce4",
   "metadata": {},
   "outputs": [
    {
     "name": "stdout",
     "output_type": "stream",
     "text": [
      "read from t=0s to t=7929.87s\n",
      "Using 1017.2526 Hz as SEV sampling rate for EEG_\n",
      "Remember to save all data in xset-style dictionary, and to add experiment name key (key = \"name\") before using save_xset\n",
      "read from t=0s to t=7929.87s\n",
      "Using 1017.2526 Hz as SEV sampling rate for LFP_\n",
      "Remember to save all data in xset-style dictionary, and to add experiment name key (key = \"name\") before using save_xset\n"
     ]
    }
   ],
   "source": [
    "art = {}\n",
    "art['ebl'], art['ebl_spg'] = kd.get_data_spg(bl2p, store='EEG_', t1=0, t2=7200, channel=kd_ref['echans'])\n",
    "art['fbl'], art['fbl_spg'] = kd.get_data_spg(bl2p, store='LFP_', t1=0, t2=7200, channel=kd_ref['fchans'])\n",
    "\n",
    "# Artifact Hypnograms\n",
    "lfp_hyp = hp.load_visbrain_hypnogram(\"/Volumes/opto_loc/Data/ACHR_PROJECT_MATERIALS/artifact_debug/ex2-bl1-LFP.txt\")\n",
    "eeg_hyp = hp.load_visbrain_hypnogram(\"/Volumes/opto_loc/Data/ACHR_PROJECT_MATERIALS/artifact_debug/ex2-bl1-EEG.txt\")"
   ]
  },
  {
   "cell_type": "code",
   "execution_count": 42,
   "id": "6352ad39",
   "metadata": {},
   "outputs": [],
   "source": [
    "lfbp = kd.get_bp_set(art['fbl_spg'], bands_def)"
   ]
  },
  {
   "cell_type": "code",
   "execution_count": 43,
   "id": "30fd01a0",
   "metadata": {},
   "outputs": [],
   "source": [
    "lfbp = lfbp.sel(channel=2)"
   ]
  },
  {
   "cell_type": "code",
   "execution_count": 60,
   "id": "4423f7e6",
   "metadata": {},
   "outputs": [],
   "source": [
    "d = lfbp['delta']"
   ]
  },
  {
   "cell_type": "code",
   "execution_count": 62,
   "id": "e3dc1406",
   "metadata": {},
   "outputs": [],
   "source": [
    "d = d.to_dataframe()"
   ]
  },
  {
   "cell_type": "code",
   "execution_count": 63,
   "id": "587e50e4",
   "metadata": {},
   "outputs": [
    {
     "data": {
      "text/html": [
       "<div>\n",
       "<style scoped>\n",
       "    .dataframe tbody tr th:only-of-type {\n",
       "        vertical-align: middle;\n",
       "    }\n",
       "\n",
       "    .dataframe tbody tr th {\n",
       "        vertical-align: top;\n",
       "    }\n",
       "\n",
       "    .dataframe thead th {\n",
       "        text-align: right;\n",
       "    }\n",
       "</style>\n",
       "<table border=\"1\" class=\"dataframe\">\n",
       "  <thead>\n",
       "    <tr style=\"text-align: right;\">\n",
       "      <th></th>\n",
       "      <th>channel</th>\n",
       "      <th>timedelta</th>\n",
       "      <th>datetime</th>\n",
       "      <th>delta</th>\n",
       "    </tr>\n",
       "    <tr>\n",
       "      <th>time</th>\n",
       "      <th></th>\n",
       "      <th></th>\n",
       "      <th></th>\n",
       "      <th></th>\n",
       "    </tr>\n",
       "  </thead>\n",
       "  <tbody>\n",
       "    <tr>\n",
       "      <th>1.999995</th>\n",
       "      <td>2</td>\n",
       "      <td>0 days 00:00:01.999994839</td>\n",
       "      <td>2021-10-21 10:01:19.999993839</td>\n",
       "      <td>17886.109375</td>\n",
       "    </tr>\n",
       "    <tr>\n",
       "      <th>5.000233</th>\n",
       "      <td>2</td>\n",
       "      <td>0 days 00:00:05.000232858</td>\n",
       "      <td>2021-10-21 10:01:23.000231858</td>\n",
       "      <td>11623.974609</td>\n",
       "    </tr>\n",
       "    <tr>\n",
       "      <th>8.000471</th>\n",
       "      <td>2</td>\n",
       "      <td>0 days 00:00:08.000470876</td>\n",
       "      <td>2021-10-21 10:01:26.000469876</td>\n",
       "      <td>17113.660156</td>\n",
       "    </tr>\n",
       "    <tr>\n",
       "      <th>11.000709</th>\n",
       "      <td>2</td>\n",
       "      <td>0 days 00:00:11.000708895</td>\n",
       "      <td>2021-10-21 10:01:29.000707895</td>\n",
       "      <td>27628.343750</td>\n",
       "    </tr>\n",
       "    <tr>\n",
       "      <th>14.000947</th>\n",
       "      <td>2</td>\n",
       "      <td>0 days 00:00:14.000946913</td>\n",
       "      <td>2021-10-21 10:01:32.000945913</td>\n",
       "      <td>17461.017578</td>\n",
       "    </tr>\n",
       "    <tr>\n",
       "      <th>...</th>\n",
       "      <td>...</td>\n",
       "      <td>...</td>\n",
       "      <td>...</td>\n",
       "      <td>...</td>\n",
       "    </tr>\n",
       "    <tr>\n",
       "      <th>7184.569811</th>\n",
       "      <td>2</td>\n",
       "      <td>0 days 01:59:44.569811260</td>\n",
       "      <td>2021-10-21 12:01:02.569810260</td>\n",
       "      <td>98246.226562</td>\n",
       "    </tr>\n",
       "    <tr>\n",
       "      <th>7187.570049</th>\n",
       "      <td>2</td>\n",
       "      <td>0 days 01:59:47.570049279</td>\n",
       "      <td>2021-10-21 12:01:05.570048279</td>\n",
       "      <td>68581.757812</td>\n",
       "    </tr>\n",
       "    <tr>\n",
       "      <th>7190.570287</th>\n",
       "      <td>2</td>\n",
       "      <td>0 days 01:59:50.570287297</td>\n",
       "      <td>2021-10-21 12:01:08.570286297</td>\n",
       "      <td>101450.335938</td>\n",
       "    </tr>\n",
       "    <tr>\n",
       "      <th>7193.570525</th>\n",
       "      <td>2</td>\n",
       "      <td>0 days 01:59:53.570525316</td>\n",
       "      <td>2021-10-21 12:01:11.570524316</td>\n",
       "      <td>96508.414062</td>\n",
       "    </tr>\n",
       "    <tr>\n",
       "      <th>7196.570763</th>\n",
       "      <td>2</td>\n",
       "      <td>0 days 01:59:56.570763334</td>\n",
       "      <td>2021-10-21 12:01:14.570762334</td>\n",
       "      <td>106373.226562</td>\n",
       "    </tr>\n",
       "  </tbody>\n",
       "</table>\n",
       "<p>2399 rows × 4 columns</p>\n",
       "</div>"
      ],
      "text/plain": [
       "             channel                 timedelta                      datetime  \\\n",
       "time                                                                           \n",
       "1.999995           2 0 days 00:00:01.999994839 2021-10-21 10:01:19.999993839   \n",
       "5.000233           2 0 days 00:00:05.000232858 2021-10-21 10:01:23.000231858   \n",
       "8.000471           2 0 days 00:00:08.000470876 2021-10-21 10:01:26.000469876   \n",
       "11.000709          2 0 days 00:00:11.000708895 2021-10-21 10:01:29.000707895   \n",
       "14.000947          2 0 days 00:00:14.000946913 2021-10-21 10:01:32.000945913   \n",
       "...              ...                       ...                           ...   \n",
       "7184.569811        2 0 days 01:59:44.569811260 2021-10-21 12:01:02.569810260   \n",
       "7187.570049        2 0 days 01:59:47.570049279 2021-10-21 12:01:05.570048279   \n",
       "7190.570287        2 0 days 01:59:50.570287297 2021-10-21 12:01:08.570286297   \n",
       "7193.570525        2 0 days 01:59:53.570525316 2021-10-21 12:01:11.570524316   \n",
       "7196.570763        2 0 days 01:59:56.570763334 2021-10-21 12:01:14.570762334   \n",
       "\n",
       "                     delta  \n",
       "time                        \n",
       "1.999995      17886.109375  \n",
       "5.000233      11623.974609  \n",
       "8.000471      17113.660156  \n",
       "11.000709     27628.343750  \n",
       "14.000947     17461.017578  \n",
       "...                    ...  \n",
       "7184.569811   98246.226562  \n",
       "7187.570049   68581.757812  \n",
       "7190.570287  101450.335938  \n",
       "7193.570525   96508.414062  \n",
       "7196.570763  106373.226562  \n",
       "\n",
       "[2399 rows x 4 columns]"
      ]
     },
     "execution_count": 63,
     "metadata": {},
     "output_type": "execute_result"
    }
   ],
   "source": [
    "d"
   ]
  },
  {
   "cell_type": "code",
   "execution_count": 84,
   "id": "d735f676",
   "metadata": {},
   "outputs": [],
   "source": [
    "delta = (0.5, 4)\n",
    "bp2 = bp_df(art['fbl_spg'], chan=2, band_range=delta, t1=0, t2=4000)"
   ]
  },
  {
   "cell_type": "code",
   "execution_count": 85,
   "id": "c3f35837",
   "metadata": {},
   "outputs": [
    {
     "data": {
      "text/html": [
       "<div>\n",
       "<style scoped>\n",
       "    .dataframe tbody tr th:only-of-type {\n",
       "        vertical-align: middle;\n",
       "    }\n",
       "\n",
       "    .dataframe tbody tr th {\n",
       "        vertical-align: top;\n",
       "    }\n",
       "\n",
       "    .dataframe thead th {\n",
       "        text-align: right;\n",
       "    }\n",
       "</style>\n",
       "<table border=\"1\" class=\"dataframe\">\n",
       "  <thead>\n",
       "    <tr style=\"text-align: right;\">\n",
       "      <th></th>\n",
       "      <th>band_power</th>\n",
       "    </tr>\n",
       "    <tr>\n",
       "      <th>datetime</th>\n",
       "      <th></th>\n",
       "    </tr>\n",
       "  </thead>\n",
       "  <tbody>\n",
       "    <tr>\n",
       "      <th>2021-10-21 10:01:19.999993839</th>\n",
       "      <td>16086.372070</td>\n",
       "    </tr>\n",
       "    <tr>\n",
       "      <th>2021-10-21 10:01:23.000231858</th>\n",
       "      <td>11571.850586</td>\n",
       "    </tr>\n",
       "    <tr>\n",
       "      <th>2021-10-21 10:01:26.000469876</th>\n",
       "      <td>17051.394531</td>\n",
       "    </tr>\n",
       "    <tr>\n",
       "      <th>2021-10-21 10:01:29.000707895</th>\n",
       "      <td>27467.548828</td>\n",
       "    </tr>\n",
       "    <tr>\n",
       "      <th>2021-10-21 10:01:32.000945913</th>\n",
       "      <td>17428.160156</td>\n",
       "    </tr>\n",
       "    <tr>\n",
       "      <th>...</th>\n",
       "      <td>...</td>\n",
       "    </tr>\n",
       "    <tr>\n",
       "      <th>2021-10-21 11:07:44.316082480</th>\n",
       "      <td>6773.974121</td>\n",
       "    </tr>\n",
       "    <tr>\n",
       "      <th>2021-10-21 11:07:47.316320499</th>\n",
       "      <td>11325.466797</td>\n",
       "    </tr>\n",
       "    <tr>\n",
       "      <th>2021-10-21 11:07:50.316558517</th>\n",
       "      <td>15417.276367</td>\n",
       "    </tr>\n",
       "    <tr>\n",
       "      <th>2021-10-21 11:07:53.316796536</th>\n",
       "      <td>30161.755859</td>\n",
       "    </tr>\n",
       "    <tr>\n",
       "      <th>2021-10-21 11:07:56.317034554</th>\n",
       "      <td>18386.529297</td>\n",
       "    </tr>\n",
       "  </tbody>\n",
       "</table>\n",
       "<p>1333 rows × 1 columns</p>\n",
       "</div>"
      ],
      "text/plain": [
       "                                 band_power\n",
       "datetime                                   \n",
       "2021-10-21 10:01:19.999993839  16086.372070\n",
       "2021-10-21 10:01:23.000231858  11571.850586\n",
       "2021-10-21 10:01:26.000469876  17051.394531\n",
       "2021-10-21 10:01:29.000707895  27467.548828\n",
       "2021-10-21 10:01:32.000945913  17428.160156\n",
       "...                                     ...\n",
       "2021-10-21 11:07:44.316082480   6773.974121\n",
       "2021-10-21 11:07:47.316320499  11325.466797\n",
       "2021-10-21 11:07:50.316558517  15417.276367\n",
       "2021-10-21 11:07:53.316796536  30161.755859\n",
       "2021-10-21 11:07:56.317034554  18386.529297\n",
       "\n",
       "[1333 rows x 1 columns]"
      ]
     },
     "execution_count": 85,
     "metadata": {},
     "output_type": "execute_result"
    }
   ],
   "source": [
    "bp2"
   ]
  },
  {
   "cell_type": "code",
   "execution_count": 29,
   "id": "25feafbb",
   "metadata": {},
   "outputs": [],
   "source": [
    "lf2 = x2df(art['fbl'], chan=2)"
   ]
  },
  {
   "cell_type": "code",
   "execution_count": 33,
   "id": "3d59f1ec",
   "metadata": {},
   "outputs": [],
   "source": [
    "lf2_cut = x2df(art['fbl'], chan=2, t1=3000, t2=4000)"
   ]
  },
  {
   "cell_type": "markdown",
   "id": "beeaef68",
   "metadata": {},
   "source": [
    "# ADTK implementations"
   ]
  },
  {
   "cell_type": "code",
   "execution_count": 35,
   "id": "21188822",
   "metadata": {},
   "outputs": [],
   "source": [
    "esd_ad = GeneralizedESDTestAD(alpha=0.3)\n",
    "anomalies = esd_ad.fit_detect(lf2_cut)"
   ]
  },
  {
   "cell_type": "code",
   "execution_count": 38,
   "id": "21188822",
   "metadata": {},
   "outputs": [],
   "source": [
    "esd_ad = GeneralizedESDTestAD(alpha=0.01)\n",
    "anomalies2 = esd_ad.fit_detect(lf2_cut)"
   ]
  },
  {
   "cell_type": "code",
   "execution_count": 95,
   "id": "21188822",
   "metadata": {},
   "outputs": [],
   "source": [
    "esd_ad = GeneralizedESDTestAD(alpha=0.0000001)\n",
    "anomaliesbp = esd_ad.fit_detect(bp2)"
   ]
  },
  {
   "cell_type": "code",
   "execution_count": 59,
   "id": "58412d95",
   "metadata": {},
   "outputs": [],
   "source": [
    "anomalies2_2 = anomalies2 == False"
   ]
  },
  {
   "cell_type": "code",
   "execution_count": 37,
   "id": "faa8fb61",
   "metadata": {},
   "outputs": [
    {
     "data": {
      "application/vnd.jupyter.widget-view+json": {
       "model_id": "efa03bbe930f4797b8a157789f69b82a",
       "version_major": 2,
       "version_minor": 0
      },
      "text/plain": [
       "Canvas(toolbar=Toolbar(toolitems=[('Home', 'Reset original view', 'home', 'home'), ('Back', 'Back to previous …"
      ]
     },
     "metadata": {},
     "output_type": "display_data"
    }
   ],
   "source": [
    "from adtk.visualization import plot\n",
    "plot(lf2_cut, anomaly=anomalies, ts_linewidth=1, ts_markersize=3, anomaly_markersize=5, anomaly_color='red', anomaly_tag=\"marker\");"
   ]
  },
  {
   "cell_type": "code",
   "execution_count": 39,
   "id": "faa8fb61",
   "metadata": {},
   "outputs": [
    {
     "data": {
      "application/vnd.jupyter.widget-view+json": {
       "model_id": "8bf864381f464f1087dc92e37618e325",
       "version_major": 2,
       "version_minor": 0
      },
      "text/plain": [
       "Canvas(toolbar=Toolbar(toolitems=[('Home', 'Reset original view', 'home', 'home'), ('Back', 'Back to previous …"
      ]
     },
     "metadata": {},
     "output_type": "display_data"
    }
   ],
   "source": [
    "from adtk.visualization import plot\n",
    "plot(lf2_cut, anomaly=anomalies2, ts_linewidth=1, ts_markersize=3, anomaly_markersize=5, anomaly_color='red', anomaly_tag=\"marker\");"
   ]
  },
  {
   "cell_type": "code",
   "execution_count": 99,
   "id": "faa8fb61",
   "metadata": {},
   "outputs": [
    {
     "data": {
      "application/vnd.jupyter.widget-view+json": {
       "model_id": "908555ae239d430cb2d0ec8ada2a7f2e",
       "version_major": 2,
       "version_minor": 0
      },
      "text/plain": [
       "Canvas(toolbar=Toolbar(toolitems=[('Home', 'Reset original view', 'home', 'home'), ('Back', 'Back to previous …"
      ]
     },
     "metadata": {},
     "output_type": "display_data"
    }
   ],
   "source": [
    "from adtk.visualization import plot\n",
    "plot(bp2, anomaly=anomaliesbp, ts_linewidth=1, ts_markersize=3, anomaly_markersize=5, anomaly_color='red', anomaly_tag=\"marker\");"
   ]
  },
  {
   "cell_type": "markdown",
   "id": "c0cc6d6c",
   "metadata": {},
   "source": [
    "# Exploring the distribution of the RAW data"
   ]
  },
  {
   "cell_type": "markdown",
   "id": "1b786d2e",
   "metadata": {},
   "source": [
    "First we need to be able to actually explore how the values are distrubuted to find out where the artifacts may be"
   ]
  },
  {
   "cell_type": "code",
   "execution_count": 97,
   "id": "191e4d72",
   "metadata": {},
   "outputs": [
    {
     "data": {
      "application/vnd.jupyter.widget-view+json": {
       "model_id": "96b389ba2f5e4f94a31d444647e69dee",
       "version_major": 2,
       "version_minor": 0
      },
      "text/plain": [
       "Canvas(toolbar=Toolbar(toolitems=[('Home', 'Reset original view', 'home', 'home'), ('Back', 'Back to previous …"
      ]
     },
     "metadata": {},
     "output_type": "display_data"
    },
    {
     "data": {
      "application/vnd.jupyter.widget-view+json": {
       "model_id": "82c34fc880ec4d938040294d74ee24f3",
       "version_major": 2,
       "version_minor": 0
      },
      "text/plain": [
       "Canvas(toolbar=Toolbar(toolitems=[('Home', 'Reset original view', 'home', 'home'), ('Back', 'Back to previous …"
      ]
     },
     "metadata": {},
     "output_type": "display_data"
    }
   ],
   "source": [
    "plt.close('all')\n",
    "band='delta'\n",
    "spg = art['fbl_spg']\n",
    "chans = [2,4]\n",
    "for chan in chans:\n",
    "    b, s = kp.plot_spectrogram_with_bandpower(spg, bands_def, band, hyp=lfp_hyp, channel=chan, start_time=0, end_time=7200, title=band.capitalize()+\" Power, LFP-\"+str(chan)+\", ACHR_2 EXPERIMENT-2-bl\")\n",
    "    b.set_ylim(0, 400000)"
   ]
  },
  {
   "cell_type": "code",
   "execution_count": null,
   "id": "3526a12e",
   "metadata": {},
   "outputs": [],
   "source": [
    "df = a2x1['f'].to_dataframe()"
   ]
  },
  {
   "cell_type": "code",
   "execution_count": null,
   "id": "5d05d98c",
   "metadata": {},
   "outputs": [],
   "source": [
    "df1 = a2x1['f'].sel(channel=1).swap_dims({'time': 'datetime'}).to_dataframe()"
   ]
  },
  {
   "cell_type": "code",
   "execution_count": null,
   "id": "2a260a9f",
   "metadata": {},
   "outputs": [
    {
     "data": {
      "text/plain": [
       "LFP_   -9559.318359\n",
       "dtype: float32"
      ]
     },
     "metadata": {},
     "output_type": "display_data"
    }
   ],
   "source": [
    "df1.min()"
   ]
  },
  {
   "cell_type": "code",
   "execution_count": null,
   "id": "977188f7",
   "metadata": {},
   "outputs": [],
   "source": [
    "df1 = df1.drop(labels=['channel','timedelta','time'], axis=1)"
   ]
  },
  {
   "cell_type": "code",
   "execution_count": null,
   "id": "3058e3d6",
   "metadata": {},
   "outputs": [],
   "source": [
    ".drop(labels=['channel','timedelta','datetime'], axis=1)"
   ]
  },
  {
   "cell_type": "code",
   "execution_count": null,
   "id": "61c86f24",
   "metadata": {},
   "outputs": [
    {
     "data": {
      "application/vnd.jupyter.widget-view+json": {
       "model_id": "2923f944bde243049dec0d0eecd3ca9b",
       "version_major": 2,
       "version_minor": 0
      },
      "text/plain": [
       "Canvas(toolbar=Toolbar(toolitems=[('Home', 'Reset original view', 'home', 'home'), ('Back', 'Back to previous …"
      ]
     },
     "metadata": {},
     "output_type": "display_data"
    },
    {
     "data": {
      "text/plain": [
       "Text(0.5, 0, 'value of sample in mV')"
      ]
     },
     "metadata": {},
     "output_type": "display_data"
    }
   ],
   "source": [
    "ax = df1.plot.hist(bins=1000)\n",
    "ax.set_title('LFP-1 Raw data distribution, exp-1 full recording')\n",
    "ax.set_xlabel('value of sample in mV')"
   ]
  },
  {
   "cell_type": "markdown",
   "id": "bd2a16fb",
   "metadata": {},
   "source": [
    "# Exploring distribution of spectral calculations"
   ]
  },
  {
   "cell_type": "code",
   "execution_count": null,
   "id": "403b1dd8",
   "metadata": {},
   "outputs": [],
   "source": [
    "a2x1['fbp'] = kd.get_bp_set(a2x1['fspg'].sel(channel=1), bands_def)"
   ]
  },
  {
   "cell_type": "code",
   "execution_count": null,
   "id": "e54dd2e1",
   "metadata": {},
   "outputs": [],
   "source": [
    "delta1 = a2x1['fbp'].delta.to_dataframe().drop(labels=['channel','timedelta','datetime'], axis=1)"
   ]
  },
  {
   "cell_type": "code",
   "execution_count": null,
   "id": "8d5c3666",
   "metadata": {},
   "outputs": [],
   "source": [
    "dx = delta1.to_xarray().delta"
   ]
  },
  {
   "cell_type": "code",
   "execution_count": null,
   "id": "db54f18c",
   "metadata": {},
   "outputs": [],
   "source": [
    "m1 = delta1<200000\n",
    "d1m = delta1[m1]"
   ]
  },
  {
   "cell_type": "code",
   "execution_count": null,
   "id": "9d44472c",
   "metadata": {},
   "outputs": [
    {
     "data": {
      "application/vnd.jupyter.widget-view+json": {
       "model_id": "b4e1dd33eb7f4d098f8b6971916846b7",
       "version_major": 2,
       "version_minor": 0
      },
      "text/plain": [
       "Canvas(toolbar=Toolbar(toolitems=[('Home', 'Reset original view', 'home', 'home'), ('Back', 'Back to previous …"
      ]
     },
     "metadata": {},
     "output_type": "display_data"
    },
    {
     "data": {
      "text/plain": [
       "<AxesSubplot:ylabel='Frequency'>"
      ]
     },
     "metadata": {},
     "output_type": "display_data"
    }
   ],
   "source": [
    "delta1.plot.hist(bins=2000)"
   ]
  },
  {
   "cell_type": "markdown",
   "id": "a17e3f85",
   "metadata": {},
   "source": [
    "# Actually rejecting data from our xsets:"
   ]
  },
  {
   "cell_type": "code",
   "execution_count": null,
   "id": "d42cf3c6",
   "metadata": {},
   "outputs": [],
   "source": [
    "ch1 = a2x1['f'].sel(channel=1).values\n",
    "sd1 = np.std(ch1)\n",
    "\n",
    "\n",
    "upper = (5*sd1)\n",
    "lower = -(5*sd1)\n",
    "\n",
    "\n",
    "# FALSE where there are artifacts\n",
    "m1 = np.logical_and(ch1<upper, ch1>lower)\n",
    " \n",
    "# TRUE where there are artifacts\n",
    "m2 = np.logical_or(ch1>upper, ch1<lower) "
   ]
  },
  {
   "cell_type": "code",
   "execution_count": null,
   "id": "12940e43",
   "metadata": {},
   "outputs": [],
   "source": [
    "a2x1['f'].sel(channel=1).values[m2] = None\n",
    "a2x1['fspg'] = kd.get_spextrogram(a2x1['f'])"
   ]
  }
 ],
 "metadata": {
  "interpreter": {
   "hash": "8b4e5f83c5c43fbba261d328a2df1f0567bfa5b389d8ccfa34ce3cfd2f216fff"
  },
  "kernelspec": {
   "display_name": "Python 3.9.7 64-bit ('ecephys_t2': conda)",
   "name": "python3"
  },
  "language_info": {
   "codemirror_mode": {
    "name": "ipython",
    "version": 3
   },
   "file_extension": ".py",
   "mimetype": "text/x-python",
   "name": "python",
   "nbconvert_exporter": "python",
   "pygments_lexer": "ipython3",
   "version": "3.9.7"
  }
 },
 "nbformat": 4,
 "nbformat_minor": 5
}
