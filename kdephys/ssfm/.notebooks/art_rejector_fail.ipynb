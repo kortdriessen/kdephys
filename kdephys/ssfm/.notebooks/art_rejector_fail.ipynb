{
 "cells": [
  {
   "cell_type": "markdown",
   "metadata": {},
   "source": [
    "# Artifact Rejector - FAIL #1"
   ]
  },
  {
   "cell_type": "code",
   "execution_count": 1,
   "metadata": {},
   "outputs": [],
   "source": [
    "%matplotlib widget\n",
    "%reload_ext autoreload\n",
    "%autoreload 2\n",
    "\n",
    "import numpy as np\n",
    "import scipy\n",
    "import pandas as pd\n",
    "import tdt\n",
    "from pathlib import Path\n",
    "import matplotlib.pyplot as plt\n",
    "import seaborn as sns\n",
    "from sklearn.decomposition import PCA\n",
    "\n",
    "import hypnogram as hp\n",
    "import kd_analysis.main.utils as kd\n",
    "import kd_analysis.main.plots as kp\n",
    "import neurodsp.plts.utils as dspu\n",
    "import sleep_score_for_me.v1.ssfm_v1 as ss\n",
    "import sleep_score_for_me.utils.ssfm_utils as ssu\n",
    "\n",
    "import adtk\n",
    "from adtk.detector import GeneralizedESDTestAD\n",
    "from adtk.visualization import plot\n",
    "\n",
    "bp_def = dict(delta=(1.5, 4), theta=(4, 8), sigma = (11, 16), beta = (13, 20), low_gamma = (40, 55), high_gamma = (65, 80), omega=(300, 700))\n",
    "\n",
    "kd_ref = {}\n",
    "kd_ref['echans'] = [1,2]\n",
    "kd_ref['fchans']=[1,2,3,4,5,6,7,8,9,10,11,12,13,14,15,16]\n",
    "kd_ref['analysis_root'] = Path('/Volumes/opto_loc/Data/ACHR_PROJECT_MATERIALS/ACHR_3/ACHR_3-analysis-data')\n",
    "kd_ref['tank_root'] = Path('/Volumes/opto_loc/Data/ACHR_3/ACHR_3_TANK')"
   ]
  },
  {
   "cell_type": "code",
   "execution_count": 2,
   "id": "579e5e6e",
   "metadata": {},
   "outputs": [],
   "source": [
    "# Will use ACHR_3 Data to start:\n",
    "\n",
    "pth_x1_control = '/Volumes/opto_loc/Data/ACHR_3/ACHR_3_TANK/ACHR_3-exp1-control'\n",
    "pth_x1_control_bl = '/Volumes/opto_loc/Data/ACHR_3/ACHR_3_TANK/ACHR_3-exp1-control-bl'\n",
    "pth_x2 = '/Volumes/opto_loc/Data/ACHR_3/ACHR_3_TANK/ACHR_3-exp2'\n",
    "pth_x2_bl = '/Volumes/opto_loc/Data/ACHR_3/ACHR_3_TANK/ACHR_3-exp2-bl'\n",
    "\n",
    "arej = {}"
   ]
  },
  {
   "cell_type": "markdown",
   "metadata": {},
   "source": [
    "- First goal is to get this working on some data from ACHR_3 Exp2-Baseline, which seems to have some bad artifact in the deep LFP channels, and in the EEG channels"
   ]
  },
  {
   "cell_type": "code",
   "execution_count": 4,
   "metadata": {},
   "outputs": [],
   "source": [
    "import adtk\n",
    "from adtk.detector import GeneralizedESDTestAD\n",
    "from adtk.visualization import plot"
   ]
  },
  {
   "cell_type": "code",
   "execution_count": 3,
   "metadata": {},
   "outputs": [
    {
     "name": "stdout",
     "output_type": "stream",
     "text": [
      "read from t=0s to t=11370.42s\n",
      "Using 1525.8789 Hz as SEV sampling rate for EEGr\n",
      "Remember to save all data in xset-style dictionary, and to add experiment name key (key = \"name\") before using save_xset\n",
      "read from t=0s to t=11370.42s\n",
      "Using 3051.7578 Hz as SEV sampling rate for LFP_\n",
      "Remember to save all data in xset-style dictionary, and to add experiment name key (key = \"name\") before using save_xset\n"
     ]
    }
   ],
   "source": [
    "arej['e'], arej['espg'] = kd.get_data_spg(pth_x2_bl, store='EEGr', t1=0, t2=10800, channel=kd_ref['echans'])\n",
    "arej['f'], arej['fspg'] = kd.get_data_spg(pth_x2_bl, store='LFP_', t1=0, t2=10800, channel=kd_ref['fchans'])"
   ]
  },
  {
   "cell_type": "code",
   "execution_count": 6,
   "metadata": {},
   "outputs": [
    {
     "name": "stdout",
     "output_type": "stream",
     "text": [
      "read from t=0s to t=11370.42s\n",
      "Using 1525.8789 Hz as SEV sampling rate for EEGr\n",
      "Remember to save all data in xset-style dictionary, and to add experiment name key (key = \"name\") before using save_xset\n",
      "read from t=0s to t=11370.42s\n",
      "Using 3051.7578 Hz as SEV sampling rate for LFP_\n",
      "Remember to save all data in xset-style dictionary, and to add experiment name key (key = \"name\") before using save_xset\n"
     ]
    }
   ],
   "source": [
    "arej['e.pd'], arej['espg.pd'] = kd.get_data_spg(pth_x2_bl, store='EEGr', t1=0, t2=10800, channel=kd_ref['echans'], pandas=True)\n",
    "arej['f.pd'], arej['fspg.pd'] = kd.get_data_spg(pth_x2_bl, store='LFP_', t1=0, t2=10800, channel=kd_ref['fchans'], pandas=True)"
   ]
  },
  {
   "cell_type": "code",
   "execution_count": 23,
   "metadata": {},
   "outputs": [
    {
     "data": {
      "application/vnd.jupyter.widget-view+json": {
       "model_id": "6c9fe4b5dedb425ab4c1ddabeb1bee27",
       "version_major": 2,
       "version_minor": 0
      },
      "text/plain": [
       "Canvas(toolbar=Toolbar(toolitems=[('Home', 'Reset original view', 'home', 'home'), ('Back', 'Back to previous …"
      ]
     },
     "metadata": {},
     "output_type": "display_data"
    },
    {
     "data": {
      "text/plain": [
       "(0.0, 16.0)"
      ]
     },
     "execution_count": 23,
     "metadata": {},
     "output_type": "execute_result"
    }
   ],
   "source": [
    "b, s = kp.plot_bp_and_spectro(spg=arej['fspg'], chan=3, hyp=None, bp_def=bp_def, band='delta', fig_size=(20,5))\n",
    "b.set_ylim(0, 65000)\n",
    "s.set_ylim(0, 16)"
   ]
  },
  {
   "cell_type": "code",
   "execution_count": 18,
   "metadata": {},
   "outputs": [
    {
     "data": {
      "application/vnd.jupyter.widget-view+json": {
       "model_id": "704fa33810a041e78b8c21e13197abe1",
       "version_major": 2,
       "version_minor": 0
      },
      "text/plain": [
       "Canvas(toolbar=Toolbar(toolitems=[('Home', 'Reset original view', 'home', 'home'), ('Back', 'Back to previous …"
      ]
     },
     "metadata": {},
     "output_type": "display_data"
    }
   ],
   "source": [
    "b, s = kp.plot_bp_and_spectro(spg=arej['fspg'], chan=9, hyp=None, bp_def=bp_def, band='delta', fig_size=(20,5))"
   ]
  },
  {
   "cell_type": "code",
   "execution_count": 35,
   "metadata": {},
   "outputs": [],
   "source": [
    "bp9 = kd.get_bp_set2(spg=arej['fspg'].sel(channel=9), bands=bp_def, pandas=True)"
   ]
  },
  {
   "cell_type": "code",
   "execution_count": 41,
   "metadata": {},
   "outputs": [],
   "source": [
    "f9_delta = bp9['delta']"
   ]
  },
  {
   "cell_type": "code",
   "execution_count": 33,
   "metadata": {},
   "outputs": [],
   "source": [
    "bp9d = bp9.delta"
   ]
  },
  {
   "cell_type": "code",
   "execution_count": 29,
   "metadata": {},
   "outputs": [
    {
     "name": "stdout",
     "output_type": "stream",
     "text": [
      "\u001b[0;31mSignature:\u001b[0m \u001b[0mkd\u001b[0m\u001b[0;34m.\u001b[0m\u001b[0mget_bp_set2\u001b[0m\u001b[0;34m(\u001b[0m\u001b[0mspg\u001b[0m\u001b[0;34m,\u001b[0m \u001b[0mbands\u001b[0m\u001b[0;34m,\u001b[0m \u001b[0mpandas\u001b[0m\u001b[0;34m=\u001b[0m\u001b[0;32mFalse\u001b[0m\u001b[0;34m)\u001b[0m\u001b[0;34m\u001b[0m\u001b[0;34m\u001b[0m\u001b[0m\n",
      "\u001b[0;31mDocstring:\u001b[0m <no docstring>\n",
      "\u001b[0;31mFile:\u001b[0m      ~/github_t2/kd_analysis/kd_analysis/main/utils.py\n",
      "\u001b[0;31mType:\u001b[0m      function\n"
     ]
    }
   ],
   "source": [
    "kd.get_bp_set2?"
   ]
  },
  {
   "cell_type": "code",
   "execution_count": 27,
   "metadata": {},
   "outputs": [],
   "source": [
    "f9 = arej['f.pd'].xs(9, level='channel')"
   ]
  },
  {
   "cell_type": "code",
   "execution_count": 28,
   "metadata": {},
   "outputs": [
    {
     "data": {
      "text/html": [
       "<div>\n",
       "<style scoped>\n",
       "    .dataframe tbody tr th:only-of-type {\n",
       "        vertical-align: middle;\n",
       "    }\n",
       "\n",
       "    .dataframe tbody tr th {\n",
       "        vertical-align: top;\n",
       "    }\n",
       "\n",
       "    .dataframe thead th {\n",
       "        text-align: right;\n",
       "    }\n",
       "</style>\n",
       "<table border=\"1\" class=\"dataframe\">\n",
       "  <thead>\n",
       "    <tr style=\"text-align: right;\">\n",
       "      <th></th>\n",
       "      <th>LFP_</th>\n",
       "    </tr>\n",
       "    <tr>\n",
       "      <th>datetime</th>\n",
       "      <th></th>\n",
       "    </tr>\n",
       "  </thead>\n",
       "  <tbody>\n",
       "    <tr>\n",
       "      <th>2021-12-14 09:02:21.999999000</th>\n",
       "      <td>-109.428833</td>\n",
       "    </tr>\n",
       "    <tr>\n",
       "      <th>2021-12-14 09:02:22.000326680</th>\n",
       "      <td>-114.137085</td>\n",
       "    </tr>\n",
       "    <tr>\n",
       "      <th>2021-12-14 09:02:22.000654360</th>\n",
       "      <td>-118.779182</td>\n",
       "    </tr>\n",
       "    <tr>\n",
       "      <th>2021-12-14 09:02:22.000982039</th>\n",
       "      <td>-111.455574</td>\n",
       "    </tr>\n",
       "    <tr>\n",
       "      <th>2021-12-14 09:02:22.001309720</th>\n",
       "      <td>-99.647324</td>\n",
       "    </tr>\n",
       "    <tr>\n",
       "      <th>...</th>\n",
       "      <td>...</td>\n",
       "    </tr>\n",
       "    <tr>\n",
       "      <th>2021-12-14 12:02:21.998563631</th>\n",
       "      <td>52.526932</td>\n",
       "    </tr>\n",
       "    <tr>\n",
       "      <th>2021-12-14 12:02:21.998891311</th>\n",
       "      <td>47.167984</td>\n",
       "    </tr>\n",
       "    <tr>\n",
       "      <th>2021-12-14 12:02:21.999218991</th>\n",
       "      <td>35.126698</td>\n",
       "    </tr>\n",
       "    <tr>\n",
       "      <th>2021-12-14 12:02:21.999546671</th>\n",
       "      <td>15.416548</td>\n",
       "    </tr>\n",
       "    <tr>\n",
       "      <th>2021-12-14 12:02:21.999874351</th>\n",
       "      <td>13.859106</td>\n",
       "    </tr>\n",
       "  </tbody>\n",
       "</table>\n",
       "<p>32958985 rows × 1 columns</p>\n",
       "</div>"
      ],
      "text/plain": [
       "                                     LFP_\n",
       "datetime                                 \n",
       "2021-12-14 09:02:21.999999000 -109.428833\n",
       "2021-12-14 09:02:22.000326680 -114.137085\n",
       "2021-12-14 09:02:22.000654360 -118.779182\n",
       "2021-12-14 09:02:22.000982039 -111.455574\n",
       "2021-12-14 09:02:22.001309720  -99.647324\n",
       "...                                   ...\n",
       "2021-12-14 12:02:21.998563631   52.526932\n",
       "2021-12-14 12:02:21.998891311   47.167984\n",
       "2021-12-14 12:02:21.999218991   35.126698\n",
       "2021-12-14 12:02:21.999546671   15.416548\n",
       "2021-12-14 12:02:21.999874351   13.859106\n",
       "\n",
       "[32958985 rows x 1 columns]"
      ]
     },
     "execution_count": 28,
     "metadata": {},
     "output_type": "execute_result"
    }
   ],
   "source": [
    "f9"
   ]
  },
  {
   "cell_type": "code",
   "execution_count": 43,
   "metadata": {},
   "outputs": [
    {
     "data": {
      "application/vnd.jupyter.widget-view+json": {
       "model_id": "a5202d524fa54bcab1811adee9cec9b3",
       "version_major": 2,
       "version_minor": 0
      },
      "text/plain": [
       "Canvas(toolbar=Toolbar(toolitems=[('Home', 'Reset original view', 'home', 'home'), ('Back', 'Back to previous …"
      ]
     },
     "metadata": {},
     "output_type": "display_data"
    }
   ],
   "source": [
    "esd_ad = GeneralizedESDTestAD(alpha=0.3)\n",
    "anomalies = esd_ad.fit_detect(f9_delta)\n",
    "from adtk.visualization import plot\n",
    "plot(f9_delta, anomaly=anomalies, ts_linewidth=1, ts_markersize=3, anomaly_markersize=5, anomaly_color='red', anomaly_tag=\"marker\");"
   ]
  },
  {
   "cell_type": "code",
   "execution_count": 44,
   "metadata": {},
   "outputs": [
    {
     "data": {
      "text/plain": [
       "datetime\n",
       "2021-12-14 09:02:23.999993880    False\n",
       "2021-12-14 09:02:27.000231959    False\n",
       "2021-12-14 09:02:30.000470039    False\n",
       "2021-12-14 09:02:33.000708118    False\n",
       "2021-12-14 09:02:36.000946198    False\n",
       "                                 ...  \n",
       "2021-12-14 12:02:06.855651633    False\n",
       "2021-12-14 12:02:09.855889713    False\n",
       "2021-12-14 12:02:12.856127792    False\n",
       "2021-12-14 12:02:15.856365872    False\n",
       "2021-12-14 12:02:18.856603951    False\n",
       "Name: delta, Length: 3599, dtype: bool"
      ]
     },
     "execution_count": 44,
     "metadata": {},
     "output_type": "execute_result"
    }
   ],
   "source": [
    "anomalies"
   ]
  },
  {
   "cell_type": "code",
   "execution_count": 45,
   "metadata": {},
   "outputs": [
    {
     "data": {
      "text/plain": [
       "datetime\n",
       "2021-12-14 09:02:23.999993880    37108.894531\n",
       "2021-12-14 09:02:27.000231959    22488.562500\n",
       "2021-12-14 09:02:30.000470039    20750.445312\n",
       "2021-12-14 09:02:33.000708118    22664.792969\n",
       "2021-12-14 09:02:36.000946198     8745.557617\n",
       "                                     ...     \n",
       "2021-12-14 12:02:06.855651633    25321.601562\n",
       "2021-12-14 12:02:09.855889713     8955.240234\n",
       "2021-12-14 12:02:12.856127792    22142.025391\n",
       "2021-12-14 12:02:15.856365872    56147.417969\n",
       "2021-12-14 12:02:18.856603951     6302.315918\n",
       "Name: delta, Length: 3599, dtype: float32"
      ]
     },
     "execution_count": 45,
     "metadata": {},
     "output_type": "execute_result"
    }
   ],
   "source": [
    "f9_delta"
   ]
  },
  {
   "cell_type": "code",
   "execution_count": 46,
   "metadata": {},
   "outputs": [],
   "source": [
    "f9d_df = f9_delta.to_frame(name='delta')"
   ]
  },
  {
   "cell_type": "code",
   "execution_count": 47,
   "metadata": {},
   "outputs": [],
   "source": [
    "f9d_df['arts'] = anomalies.values"
   ]
  },
  {
   "cell_type": "code",
   "execution_count": 72,
   "metadata": {},
   "outputs": [],
   "source": [
    "f9d_df.loc[f9d_df.arts==True, 'delta'] = np.NaN"
   ]
  },
  {
   "cell_type": "code",
   "execution_count": 73,
   "metadata": {},
   "outputs": [
    {
     "data": {
      "text/html": [
       "<div>\n",
       "<style scoped>\n",
       "    .dataframe tbody tr th:only-of-type {\n",
       "        vertical-align: middle;\n",
       "    }\n",
       "\n",
       "    .dataframe tbody tr th {\n",
       "        vertical-align: top;\n",
       "    }\n",
       "\n",
       "    .dataframe thead th {\n",
       "        text-align: right;\n",
       "    }\n",
       "</style>\n",
       "<table border=\"1\" class=\"dataframe\">\n",
       "  <thead>\n",
       "    <tr style=\"text-align: right;\">\n",
       "      <th></th>\n",
       "      <th>delta</th>\n",
       "      <th>arts</th>\n",
       "    </tr>\n",
       "    <tr>\n",
       "      <th>datetime</th>\n",
       "      <th></th>\n",
       "      <th></th>\n",
       "    </tr>\n",
       "  </thead>\n",
       "  <tbody>\n",
       "    <tr>\n",
       "      <th>2021-12-14 09:02:23.999993880</th>\n",
       "      <td>37108.894531</td>\n",
       "      <td>False</td>\n",
       "    </tr>\n",
       "    <tr>\n",
       "      <th>2021-12-14 09:02:27.000231959</th>\n",
       "      <td>22488.562500</td>\n",
       "      <td>False</td>\n",
       "    </tr>\n",
       "    <tr>\n",
       "      <th>2021-12-14 09:02:30.000470039</th>\n",
       "      <td>20750.445312</td>\n",
       "      <td>False</td>\n",
       "    </tr>\n",
       "    <tr>\n",
       "      <th>2021-12-14 09:02:33.000708118</th>\n",
       "      <td>22664.792969</td>\n",
       "      <td>False</td>\n",
       "    </tr>\n",
       "    <tr>\n",
       "      <th>2021-12-14 09:02:36.000946198</th>\n",
       "      <td>8745.557617</td>\n",
       "      <td>False</td>\n",
       "    </tr>\n",
       "    <tr>\n",
       "      <th>...</th>\n",
       "      <td>...</td>\n",
       "      <td>...</td>\n",
       "    </tr>\n",
       "    <tr>\n",
       "      <th>2021-12-14 12:02:06.855651633</th>\n",
       "      <td>25321.601562</td>\n",
       "      <td>False</td>\n",
       "    </tr>\n",
       "    <tr>\n",
       "      <th>2021-12-14 12:02:09.855889713</th>\n",
       "      <td>8955.240234</td>\n",
       "      <td>False</td>\n",
       "    </tr>\n",
       "    <tr>\n",
       "      <th>2021-12-14 12:02:12.856127792</th>\n",
       "      <td>22142.025391</td>\n",
       "      <td>False</td>\n",
       "    </tr>\n",
       "    <tr>\n",
       "      <th>2021-12-14 12:02:15.856365872</th>\n",
       "      <td>56147.417969</td>\n",
       "      <td>False</td>\n",
       "    </tr>\n",
       "    <tr>\n",
       "      <th>2021-12-14 12:02:18.856603951</th>\n",
       "      <td>6302.315918</td>\n",
       "      <td>False</td>\n",
       "    </tr>\n",
       "  </tbody>\n",
       "</table>\n",
       "<p>3599 rows × 2 columns</p>\n",
       "</div>"
      ],
      "text/plain": [
       "                                      delta   arts\n",
       "datetime                                          \n",
       "2021-12-14 09:02:23.999993880  37108.894531  False\n",
       "2021-12-14 09:02:27.000231959  22488.562500  False\n",
       "2021-12-14 09:02:30.000470039  20750.445312  False\n",
       "2021-12-14 09:02:33.000708118  22664.792969  False\n",
       "2021-12-14 09:02:36.000946198   8745.557617  False\n",
       "...                                     ...    ...\n",
       "2021-12-14 12:02:06.855651633  25321.601562  False\n",
       "2021-12-14 12:02:09.855889713   8955.240234  False\n",
       "2021-12-14 12:02:12.856127792  22142.025391  False\n",
       "2021-12-14 12:02:15.856365872  56147.417969  False\n",
       "2021-12-14 12:02:18.856603951   6302.315918  False\n",
       "\n",
       "[3599 rows x 2 columns]"
      ]
     },
     "execution_count": 73,
     "metadata": {},
     "output_type": "execute_result"
    }
   ],
   "source": [
    "f9d_df "
   ]
  },
  {
   "cell_type": "code",
   "execution_count": 67,
   "metadata": {},
   "outputs": [],
   "source": [
    "from scipy.stats import mode\n",
    "samp = mode(np.diff(f9d_df.index.values)).mode[0]"
   ]
  },
  {
   "cell_type": "code",
   "execution_count": 68,
   "metadata": {},
   "outputs": [
    {
     "data": {
      "text/plain": [
       "numpy.timedelta64(3000238080,'ns')"
      ]
     },
     "execution_count": 68,
     "metadata": {},
     "output_type": "execute_result"
    }
   ],
   "source": [
    "samp"
   ]
  },
  {
   "cell_type": "code",
   "execution_count": 74,
   "metadata": {},
   "outputs": [
    {
     "data": {
      "application/vnd.jupyter.widget-view+json": {
       "model_id": "62caddabc41d40b4a3604566c3b01e11",
       "version_major": 2,
       "version_minor": 0
      },
      "text/plain": [
       "Canvas(toolbar=Toolbar(toolitems=[('Home', 'Reset original view', 'home', 'home'), ('Back', 'Back to previous …"
      ]
     },
     "metadata": {},
     "output_type": "display_data"
    }
   ],
   "source": [
    "f, ax = plt.subplots(figsize=(20, 5))\n",
    "ax = sns.lineplot(x=f9d_df.index, y=f9d_df['delta'], ax=ax)"
   ]
  },
  {
   "cell_type": "code",
   "execution_count": 76,
   "metadata": {},
   "outputs": [
    {
     "data": {
      "application/vnd.jupyter.widget-view+json": {
       "model_id": "4fce1871ec014c8bb11f1d915e3183e3",
       "version_major": 2,
       "version_minor": 0
      },
      "text/plain": [
       "Canvas(toolbar=Toolbar(toolitems=[('Home', 'Reset original view', 'home', 'home'), ('Back', 'Back to previous …"
      ]
     },
     "metadata": {},
     "output_type": "display_data"
    }
   ],
   "source": [
    "f, ax = plt.subplots(figsize=(20, 5))\n",
    "ax = sns.lineplot(x=sd9.index, y=sd9['delta'], ax=ax)"
   ]
  },
  {
   "cell_type": "code",
   "execution_count": 75,
   "metadata": {},
   "outputs": [],
   "source": [
    "sd9 = get_smoothed_df(f9d_df, col='delta')"
   ]
  },
  {
   "cell_type": "code",
   "execution_count": null,
   "metadata": {},
   "outputs": [],
   "source": []
  },
  {
   "cell_type": "code",
   "execution_count": 69,
   "metadata": {},
   "outputs": [],
   "source": [
    "def get_smoothed_df(df, col, smoothing_sigma=10):\n",
    "    df = df.copy()\n",
    "    period = scipy.stats.mode(np.diff(df.index.values)).mode[0]\n",
    "    period = period/pd.to_timedelta(1, 's')\n",
    "    fs = 1/period\n",
    "    data = df[col]\n",
    "    smoothed_data = kd.gaussian_smooth(data, sigma=smoothing_sigma, sampling_frequency=fs)\n",
    "    df[col] = smoothed_data\n",
    "    return df"
   ]
  }
 ],
 "metadata": {
  "interpreter": {
   "hash": "8b4e5f83c5c43fbba261d328a2df1f0567bfa5b389d8ccfa34ce3cfd2f216fff"
  },
  "kernelspec": {
   "display_name": "Python 3.9.7 64-bit ('ecephys_t2': conda)",
   "name": "python3"
  },
  "language_info": {
   "codemirror_mode": {
    "name": "ipython",
    "version": 3
   },
   "file_extension": ".py",
   "mimetype": "text/x-python",
   "name": "python",
   "nbconvert_exporter": "python",
   "pygments_lexer": "ipython3",
   "version": "3.9.7"
  },
  "orig_nbformat": 4
 },
 "nbformat": 4,
 "nbformat_minor": 2
}
